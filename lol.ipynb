{
 "cells": [
  {
   "cell_type": "code",
   "execution_count": 1,
   "metadata": {},
   "outputs": [],
   "source": [
    "from selenium import webdriver\n",
    "from bs4 import BeautifulSoup\n",
    "\n",
    "# Set the URL of the web page\n",
    "url = \"https://www.youtube.com/watch?v=a5DX5pQ9p5M\"\n",
    "\n",
    "# Open the web page in a Chrome browser\n",
    "driver = webdriver.Chrome()\n",
    "driver.get(url)\n",
    "\n",
    "# Wait for the page to load\n",
    "driver.implicitly_wait(10)\n",
    "\n",
    "# Get the HTML source of the page\n",
    "html = driver.page_source\n",
    "\n",
    "# Parse the HTML using Beautiful Soup\n",
    "soup = BeautifulSoup(html, \"html.parser\")\n",
    "\n",
    "# Remove the elements containing ads\n",
    "for ad in soup.select(\".ad\"):\n",
    "  ad.decompose()\n",
    "\n",
    "# Save the modified HTML\n",
    "modified_html = str(soup)\n",
    "\n",
    "# Overwrite the HTML of the web page with the modified HTML\n",
    "driver.execute_script(f\"document.documentElement.innerHTML = {modified_html!r}\")\n",
    "\n",
    "# Close the browser\n",
    "driver.close()"
   ]
  },
  {
   "cell_type": "code",
   "execution_count": null,
   "metadata": {},
   "outputs": [],
   "source": []
  }
 ],
 "metadata": {
  "kernelspec": {
   "display_name": "Python 3",
   "language": "python",
   "name": "python3"
  },
  "language_info": {
   "codemirror_mode": {
    "name": "ipython",
    "version": 3
   },
   "file_extension": ".py",
   "mimetype": "text/x-python",
   "name": "python",
   "nbconvert_exporter": "python",
   "pygments_lexer": "ipython3",
   "version": "3.12.1"
  }
 },
 "nbformat": 4,
 "nbformat_minor": 2
}
